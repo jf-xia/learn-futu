{
 "cells": [
  {
   "cell_type": "code",
   "execution_count": null,
   "id": "9cfcf863",
   "metadata": {},
   "outputs": [
    {
     "name": "stdout",
     "output_type": "stream",
     "text": [
      "\u001b[0;30m2025-05-18 16:33:35,382 | 36521 | [open_context_base.py] _send_init_connect_sync:311: InitConnect ok: conn_id=780, host=127.0.0.1, port=11111, user_id=232724269\u001b[0m\n",
      "查询失败: 港股BMP权限下，不支持条件选股接口\n",
      "没有找到符合条件的股票\n",
      "查询失败: 港股BMP权限下，不支持条件选股接口\n",
      "没有找到符合条件的股票\n"
     ]
    }
   ],
   "source": [
    "from futu import *\n",
    "import time\n",
    "import pandas as pd\n",
    "\n",
    "# 创建连接\n",
    "quote_ctx = OpenQuoteContext(host='127.0.0.1', port=11111)\n",
    "\n",
    "# 创建过滤器列表\n",
    "filter_list = []\n",
    "\n",
    "# 1. 市值 > 100亿\n",
    "market_val_filter = SimpleFilter()\n",
    "market_val_filter.filter_min = 100 * 100000000  # 100亿\n",
    "market_val_filter.filter_max = float('inf')\n",
    "market_val_filter.stock_field = StockField.MARKET_VAL\n",
    "market_val_filter.is_no_filter = False\n",
    "market_val_filter.sort = SortDir.DESCEND  # 按市值降序排列\n",
    "filter_list.append(market_val_filter)\n",
    "\n",
    "# 2. PE TTM在8-20之间\n",
    "pe_ttm_filter = SimpleFilter()\n",
    "pe_ttm_filter.filter_min = 8\n",
    "pe_ttm_filter.filter_max = 20\n",
    "pe_ttm_filter.stock_field = StockField.PE_TTM\n",
    "pe_ttm_filter.is_no_filter = False\n",
    "filter_list.append(pe_ttm_filter)\n",
    "\n",
    "# 3. 资产负债率 < 60%\n",
    "debt_rate_filter = SimpleFilter()\n",
    "debt_rate_filter.filter_min = 0\n",
    "debt_rate_filter.filter_max = 60\n",
    "debt_rate_filter.stock_field = StockField.DEBT_ASSET_RATE\n",
    "debt_rate_filter.is_no_filter = False\n",
    "filter_list.append(debt_rate_filter)\n",
    "\n",
    "# 4. 净利率 > 10%\n",
    "net_profit_rate_filter = SimpleFilter()\n",
    "net_profit_rate_filter.filter_min = 10\n",
    "net_profit_rate_filter.filter_max = float('inf')\n",
    "net_profit_rate_filter.stock_field = StockField.NET_PROFIT_RATE\n",
    "net_profit_rate_filter.is_no_filter = False\n",
    "filter_list.append(net_profit_rate_filter)\n",
    "\n",
    "# 5. ROE > 8%\n",
    "roe_filter = SimpleFilter()\n",
    "roe_filter.filter_min = 8\n",
    "roe_filter.filter_max = float('inf')\n",
    "roe_filter.stock_field = StockField.RETURN_ON_EQUITY_RATE\n",
    "roe_filter.is_no_filter = False\n",
    "filter_list.append(roe_filter)\n",
    "\n",
    "# 6. 流动比率 > 1.5\n",
    "current_ratio_filter = SimpleFilter()\n",
    "current_ratio_filter.filter_min = 1.5\n",
    "current_ratio_filter.filter_max = float('inf')\n",
    "current_ratio_filter.stock_field = StockField.CURRENT_RATIO\n",
    "current_ratio_filter.is_no_filter = False\n",
    "filter_list.append(current_ratio_filter)\n",
    "\n",
    "# 7. 振幅 < 3%\n",
    "amplitude_filter = SimpleFilter()\n",
    "amplitude_filter.filter_min = 0\n",
    "amplitude_filter.filter_max = 3\n",
    "amplitude_filter.stock_field = StockField.AMPLITUDE\n",
    "amplitude_filter.is_no_filter = False\n",
    "filter_list.append(amplitude_filter)\n",
    "\n",
    "# 执行选股\n",
    "nBegin = 0\n",
    "last_page = False\n",
    "all_stocks = []\n",
    "\n",
    "try:\n",
    "    while not last_page:\n",
    "        ret, ls = quote_ctx.get_stock_filter(market=Market.HK, filter_list=filter_list, begin=nBegin, num=200)\n",
    "        if ret == RET_OK:\n",
    "            last_page, all_count, ret_list = ls\n",
    "            print(f'获取结果: {len(ret_list)}个股票, 总计: {all_count}个')\n",
    "            \n",
    "            # 收集符合条件的股票\n",
    "            for item in ret_list:\n",
    "                stock_info = {\n",
    "                    '股票代码': item.stock_code,\n",
    "                    '股票名称': item.stock_name,\n",
    "                    '最新价': item.cur_price,\n",
    "                    '市值(亿)': round(item[market_val_filter] / 100000000, 2),\n",
    "                    'PE TTM': round(item[pe_ttm_filter], 2),\n",
    "                    '资产负债率(%)': round(item[debt_rate_filter], 2),\n",
    "                    '净利率(%)': round(item[net_profit_rate_filter], 2),\n",
    "                    'ROE(%)': round(item[roe_filter], 2),\n",
    "                    '流动比率': round(item[current_ratio_filter], 2),\n",
    "                    '振幅(%)': round(item[amplitude_filter], 2)\n",
    "                }\n",
    "                all_stocks.append(stock_info)\n",
    "            \n",
    "            # 更新偏移量\n",
    "            nBegin += len(ret_list)\n",
    "            \n",
    "            # 避免触发频率限制\n",
    "            if not last_page:\n",
    "                time.sleep(3)\n",
    "        else:\n",
    "            print(f'查询失败: {ls}')\n",
    "            break\n",
    "    \n",
    "    # 将结果转换为DataFrame并显示\n",
    "    if all_stocks:\n",
    "        result_df = pd.DataFrame(all_stocks)\n",
    "        print(\"\\n选股结果:\")\n",
    "        display(result_df)\n",
    "    else:\n",
    "        print(\"没有找到符合条件的股票\")\n",
    "        \n",
    "except Exception as e:\n",
    "    print(f\"发生错误: {str(e)}\")\n",
    "    \n",
    "finally:\n",
    "    quote_ctx.close()  # 关闭连接"
   ]
  },
  {
   "cell_type": "code",
   "execution_count": null,
   "id": "9771dd74",
   "metadata": {},
   "outputs": [
    {
     "name": "stdout",
     "output_type": "stream",
     "text": [
      "\u001b[0;30m2025-05-18 16:35:29,886 | 36521 | [open_context_base.py] _send_init_connect_sync:311: InitConnect ok: conn_id=781, host=127.0.0.1, port=11111, user_id=232724269\u001b[0m\n"
     ]
    }
   ],
   "source": [
    "from futu import *\n"
   ]
  },
  {
   "cell_type": "code",
   "execution_count": 25,
   "id": "ca20da5e",
   "metadata": {},
   "outputs": [
    {
     "name": "stdout",
     "output_type": "stream",
     "text": [
      "\u001b[0;30m2025-05-18 16:41:01,802 | 36521 | [open_context_base.py] _send_init_connect_sync:311: InitConnect ok: conn_id=783, host=127.0.0.1, port=11111, user_id=232724269\u001b[0m\n",
      "             code   plate_name   plate_id\n",
      "0     HK.LIST1110        阿里概念股   LIST1110\n",
      "1     HK.LIST1161          双十一   LIST1161\n",
      "2     HK.LIST1166         苹果概念   LIST1166\n",
      "3     HK.LIST1175         一带一路   LIST1175\n",
      "4     HK.LIST1176         5G概念   LIST1176\n",
      "..            ...          ...        ...\n",
      "101  HK.LIST22928     美国降息利好概念  LIST22928\n",
      "102  HK.LIST23586  DeepSeek概念股  LIST23586\n",
      "103  HK.LIST23589      智能驾驶概念股  LIST23589\n",
      "104  HK.LIST23593       机器人概念股  LIST23593\n",
      "105  HK.LIST23598      AI医疗概念股  LIST23598\n",
      "\n",
      "[106 rows x 3 columns]\n",
      "阿里概念股\n",
      "['阿里概念股', '双十一', '苹果概念', '一带一路', '5G概念', '粤港澳大湾区', '特斯拉概念股', '啤酒', '体育用品', '稀土概念', '腾讯概念', '云办公', 'SaaS概念', '在线教育', '汽车经销商', '核电', '化妆品', '石油股', '电讯设备', '电力股', '手游股', '婴童用品股', '百货业股', '港口运输股', '电信股', '环保', '煤炭股', '综合车企股', '电池', '物流', '内地物业管理股', '农业股', '黄金股', '奢侈品品牌股', '电力设备股', '重型机械股', '食品股', '保险股', '纸业股', '水务股', '奶制品股', '光伏太阳能股', '内房股', '内地教育股', '家电股', '风电股', '内银股', '航空股', '石油与天然气', '建材水泥股', '中资券商股', '高铁基建股', '燃气股', '公路及铁路股', '互联网医疗', '香港本地银行股', '生物医药B类股', '医药外包概念', '香港本地消费股', '抖音概念股', '烟草及电子烟股', '影视股', '蚂蚁金服概念', '昨日强势股', '云计算', '次新股', '回港中概股', '北水核心资产', '短视频概念股', '有色金属', '医美概念股', '碳中和概念股', '民办高教', 'K12教育', '中医药概念', '元宇宙概念', '绿电概念', '小米概念', '锂电池', '养老概念', '职业教育', '氢能源概念股', '高股息概念', 'ChatGPT概念股', '中特估-国企', '虚拟现实', '室温超导概念', '以巴冲突', 'OLED概念', '工业大麻', '香港零售股', '猪肉概念', '节假日概念股', '殡葬概念', '加密货币概念股', '明星科网股', '红海危机概念', '新能源车企', '生物医药', '芯片股', '博彩股', '美国降息利好概念', 'DeepSeek概念股', '智能驾驶概念股', '机器人概念股', 'AI医疗概念股']\n"
     ]
    }
   ],
   "source": [
    "\n",
    "quote_ctx = OpenQuoteContext(host='127.0.0.1', port=11111)\n",
    "ret, data = quote_ctx.get_plate_list(Market.HK, Plate.CONCEPT)\n",
    "if ret == RET_OK:\n",
    "    print(data)\n",
    "    print(data['plate_name'][0])    # 取第一条的板块名称\n",
    "    print(data['plate_name'].values.tolist())   # 转为 list\n",
    "else:\n",
    "    print('error:', data)\n",
    "quote_ctx.close()  # 结束后记得关闭当条连接，防止连接条数用尽"
   ]
  },
  {
   "cell_type": "markdown",
   "id": "540d9240",
   "metadata": {},
   "source": [
    "# 将全部data存到一个 csv 文件里\n",
    "data.to_csv('hk_plate_list.csv', index=False, encoding='utf-8-sig')"
   ]
  },
  {
   "cell_type": "markdown",
   "id": "d279d199",
   "metadata": {},
   "source": [
    "低风险、稳定且高股息的股票板块：\n",
    "\n",
    "​​电力股​​ (LIST1207)\n",
    "公用事业板块，需求稳定，现金流可靠，通常有较高股息。\n",
    "\n",
    "​​保险股​​ (LIST1228)\n",
    "金融行业中的保险公司，盈利模式稳定，分红比例较高。\n",
    "\n",
    "​​内银股​​ (LIST1239)\n",
    "内地大型银行股，业务成熟，利息收入稳定，股息率较高。\n",
    "\n",
    "​​水务股​​ (LIST1231)\n",
    "公用事业类，需求刚性，现金流和分红政策稳定。\n",
    "\n",
    "​​公路及铁路股​​ (LIST1246)\n",
    "基础设施行业，收入受经济周期影响小，分红能力强。\n",
    "\n",
    "​​高股息概念​​ (LIST1344)\n",
    "直接定位为高股息的板块，符合筛选条件。\n",
    "\n",
    "​​香港本地银行股​​ (LIST1252)\n",
    "本地银行业务稳定，股息派发较为持续。\n",
    "\n",
    "​​燃气股​​ (LIST1245)\n",
    "公用事业属性强，市场需求稳定，分红稳健。"
   ]
  },
  {
   "cell_type": "code",
   "execution_count": null,
   "id": "1dfe6812",
   "metadata": {},
   "outputs": [
    {
     "name": "stdout",
     "output_type": "stream",
     "text": [
      "\u001b[0;30m2025-05-18 16:53:39,816 | 36521 | [open_context_base.py] _send_init_connect_sync:311: InitConnect ok: conn_id=785, host=127.0.0.1, port=11111, user_id=232724269\u001b[0m\n",
      "        code  lot_size stock_name  stock_owner  stock_child_type stock_type  \\\n",
      "0   HK.00376      2000       云锋金融          NaN               NaN      STOCK   \n",
      "1   HK.00945       100     宏利金融-S          NaN               NaN      STOCK   \n",
      "2   HK.00966       200       中国太平          NaN               NaN      STOCK   \n",
      "3   HK.01299       200       友邦保险          NaN               NaN      STOCK   \n",
      "4   HK.01336       100       新华保险          NaN               NaN      STOCK   \n",
      "5   HK.01339      1000   中国人民保险集团          NaN               NaN      STOCK   \n",
      "6   HK.01508      1000      中国再保险          NaN               NaN      STOCK   \n",
      "7   HK.02318       500       中国平安          NaN               NaN      STOCK   \n",
      "8   HK.02328      2000       中国财险          NaN               NaN      STOCK   \n",
      "9   HK.02378        50         保诚          NaN               NaN      STOCK   \n",
      "10  HK.02601       200       中国太保          NaN               NaN      STOCK   \n",
      "11  HK.02628      1000       中国人寿          NaN               NaN      STOCK   \n",
      "12  HK.06060       100       众安在线          NaN               NaN      STOCK   \n",
      "13  HK.06963       500       阳光保险          NaN               NaN      STOCK   \n",
      "14  HK.81299       200     友邦保险-R          NaN               NaN      STOCK   \n",
      "15  HK.82318       500     中国平安-R          NaN               NaN      STOCK   \n",
      "\n",
      "     list_time        stock_id  main_contract last_trade_time  \n",
      "0   1987-07-16  27509265531256          False                  \n",
      "1   1999-09-27  46643344835505          False                  \n",
      "2   2000-06-29  47828755809222          False                  \n",
      "3   2010-10-29  64037962384659          False                  \n",
      "4   2011-12-15  65807488910648          False                  \n",
      "5   2012-12-07  67345087202619          False                  \n",
      "6   2015-10-26            1508          False                  \n",
      "7   2004-06-24  54082228193550          False                  \n",
      "8   2003-11-06  53090090748184          False                  \n",
      "9   2010-05-25  63363652520266          False                  \n",
      "10  2009-12-23  62706522524201          False                  \n",
      "11  2003-12-18  53270479374916          False                  \n",
      "12  2017-09-28  74844100106156          False                  \n",
      "13  2022-12-09  83000243002163          False                  \n",
      "14  2023-06-19  83833466731923          False                  \n",
      "15  2023-06-19  83833466732942          False                  \n",
      "云锋金融\n",
      "['云锋金融', '宏利金融-S', '中国太平', '友邦保险', '新华保险', '中国人民保险集团', '中国再保险', '中国平安', '中国财险', '保诚', '中国太保', '中国人寿', '众安在线', '阳光保险', '友邦保险-R', '中国平安-R']\n"
     ]
    }
   ],
   "source": [
    "quote_ctx = OpenQuoteContext(host='127.0.0.1', port=11111)\n",
    "\n",
    "ret, dataLIST1228 = quote_ctx.get_plate_stock('HK.LIST1228')\n",
    "if ret == RET_OK:\n",
    "    print(dataLIST1228)\n",
    "    print(dataLIST1228['stock_name'][0])    # 取第一条的股票名称\n",
    "    print(dataLIST1228['stock_name'].values.tolist())   # 转为 list\n",
    "    data.to_csv('​LIST1228.csv', index=False, encoding='utf-8-sig')\n",
    "else:\n",
    "    print('error:', dataLIST1228)\n",
    "quote_ctx.close()  # 结束后记得关闭当条连接，防止连接条数用尽"
   ]
  },
  {
   "cell_type": "code",
   "execution_count": 34,
   "id": "92cd3093",
   "metadata": {},
   "outputs": [
    {
     "name": "stdout",
     "output_type": "stream",
     "text": [
      "\u001b[0;30m2025-05-18 16:56:54,475 | 36521 | [open_context_base.py] _send_init_connect_sync:311: InitConnect ok: conn_id=786, host=127.0.0.1, port=11111, user_id=232724269\u001b[0m\n"
     ]
    }
   ],
   "source": [
    "\n",
    "quote_ctx = OpenQuoteContext(host='127.0.0.1', port=11111)  # 创建行情对象\n",
    "snapshotDataLIST1228 = (quote_ctx.get_market_snapshot(\n",
    "    dataLIST1228['code'].values.tolist()))  # 获取港股 HK.00700 的快照数据\n",
    "quote_ctx.close()  # 关闭对象，防止连接条数用尽"
   ]
  },
  {
   "cell_type": "code",
   "execution_count": 39,
   "id": "c564e860",
   "metadata": {},
   "outputs": [],
   "source": [
    "snapshotDataLIST1228[1].to_csv('LIST1228快照.csv', index=False, encoding='utf-8-sig')  # 保存快照数据到CSV文件"
   ]
  },
  {
   "cell_type": "code",
   "execution_count": null,
   "id": "de0eea3f",
   "metadata": {},
   "outputs": [],
   "source": []
  }
 ],
 "metadata": {
  "kernelspec": {
   "display_name": ".venv",
   "language": "python",
   "name": "python3"
  },
  "language_info": {
   "codemirror_mode": {
    "name": "ipython",
    "version": 3
   },
   "file_extension": ".py",
   "mimetype": "text/x-python",
   "name": "python",
   "nbconvert_exporter": "python",
   "pygments_lexer": "ipython3",
   "version": "3.13.2"
  }
 },
 "nbformat": 4,
 "nbformat_minor": 5
}
